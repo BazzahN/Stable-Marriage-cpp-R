{
 "cells": [
  {
   "cell_type": "code",
   "execution_count": 3,
   "id": "f7853451-790b-48eb-901c-0eb46619c319",
   "metadata": {},
   "outputs": [
    {
     "name": "stderr",
     "output_type": "stream",
     "text": [
      "Installing package into ‘/home/newtonh3/STOR-601-env/R-packages’\n",
      "(as ‘lib’ is unspecified)\n",
      "\n",
      "Loading required package: usethis\n",
      "\n"
     ]
    }
   ],
   "source": [
    "#Install and run devtools using these commmands\n",
    "install.packages('devtools')\n",
    "library(devtools)"
   ]
  },
  {
   "cell_type": "code",
   "execution_count": 4,
   "id": "8e711ec3-1784-4edb-a11e-3b541a7bed08",
   "metadata": {},
   "outputs": [
    {
     "name": "stderr",
     "output_type": "stream",
     "text": [
      "Downloading GitHub repo BazzahN/stablepackage@HEAD\n",
      "\n"
     ]
    },
    {
     "name": "stdout",
     "output_type": "stream",
     "text": [
      "\n",
      "\u001b[36m──\u001b[39m \u001b[36mR CMD build\u001b[39m \u001b[36m─────────────────────────────────────────────────────────────────\u001b[39m\n",
      "\u001b[32m✔\u001b[39m  \u001b[90mchecking for file ‘/tmp/RtmpT9rj2I/remotesae5c82803bbe3/BazzahN-stablepackage-5e3ee27/DESCRIPTION’\u001b[39m\u001b[36m\u001b[39m\n",
      "\u001b[90m─\u001b[39m\u001b[90m  \u001b[39m\u001b[90mpreparing ‘stablepackage’:\u001b[39m\u001b[36m\u001b[39m\n",
      "\u001b[32m✔\u001b[39m  \u001b[90mchecking DESCRIPTION meta-information\u001b[39m\u001b[36m\u001b[39m\n",
      "\u001b[90m─\u001b[39m\u001b[90m  \u001b[39m\u001b[90mcleaning src\u001b[39m\u001b[36m\u001b[39m\n",
      "\u001b[90m─\u001b[39m\u001b[90m  \u001b[39m\u001b[90mchecking for LF line-endings in source and make files and shell scripts\u001b[39m\u001b[36m\u001b[39m\n",
      "\u001b[90m─\u001b[39m\u001b[90m  \u001b[39m\u001b[90mchecking for empty or unneeded directories\u001b[39m\u001b[36m\u001b[39m\n",
      "\u001b[90m─\u001b[39m\u001b[90m  \u001b[39m\u001b[90mbuilding ‘stablepackage_1.0.tar.gz’\u001b[39m\u001b[36m\u001b[39m\n",
      "   \n",
      "\r"
     ]
    },
    {
     "name": "stderr",
     "output_type": "stream",
     "text": [
      "Installing package into ‘/home/newtonh3/STOR-601-env/R-packages’\n",
      "(as ‘lib’ is unspecified)\n",
      "\n"
     ]
    }
   ],
   "source": [
    "#Install and run stablepackage from my Github\n",
    "install_github(\"BazzahN/stablepackage\",force=TRUE)\n",
    "library(stablepackage)"
   ]
  },
  {
   "cell_type": "markdown",
   "id": "3c1144c7-93f5-4362-836f-c6a8fff2ea9c",
   "metadata": {},
   "source": [
    "## Functions\n",
    "\n",
    "**stablepackage** comes with two functions:\n",
    "```\n",
    "stable_marriage(Aprefs,Bprefs,mix=F,output=T)\n",
    "\n",
    "#and\n",
    "\n",
    "rcpp_stablem_vec(names,Aprefs,Bprefs,rout)\n",
    "```\n",
    "\n",
    "**rcpp_stablem_vec** directly communicates with my C++ implementaion of the fundamental algorithm; allowing R input to be mashelled into C++ types. **rcpp_stablem_vec** is nested within **stable_marriage**. **stable_marriage** comes with additional functionality and error checks as **rcpp_stablem_vec** can produce unexpected results or failures if not used properly. \n",
    "\n",
    "Therefore, if you aren't familiar with C++ we recommend you stick to using stable_marriage instead. If you are familiar, **rcpp_stablem_vec** allows you to bypass the error coding. This is particularly useful if you want your solution faster. "
   ]
  },
  {
   "cell_type": "markdown",
   "id": "c247d460-8160-4713-a197-3b4272062f99",
   "metadata": {},
   "source": [
    "## Inputs\n",
    "\n",
    "Below is the correct format for the preference tables. Both preference tables should be represented as \"numeric\" \"vector\" or \"list\" type. If the sets $A$ and $B$ are of length $n$ then if they are represented as \"vector\" type, these vectors should be of length $n^2$. It may be more intuitve to represent these tables as a vector of vectors as in **prefs_Av_2**, this is also acceptable but the R enviroment will flatten this to a $n^2$ length regardless. \n",
    "\n",
    "The \"list\" representation should be similair to the vector of vectors representation, it should also be unlabeled.\n",
    "\n",
    "**stable_marriage** will take both vectors and lists, but **rcpp_stablem_vec** will only recieve 'numeric' 'vector' type inputs. The **names** variable is used to include perterbations in the preference table B, as the fundamental algorithm gives prefernce to those at the start of the list. **names** should be a \"numeric\" \"vector\" as well. **names** must be of length $n$\n",
    "\n"
   ]
  },
  {
   "cell_type": "code",
   "execution_count": 1,
   "id": "84e68ba2-394a-4843-a69e-d864a3ab95d1",
   "metadata": {},
   "outputs": [],
   "source": [
    "###Correct Inputs\n",
    "\n",
    "##Vector\n",
    "\n",
    "prefs_Av_1 <- c(1,2,4,3,\n",
    "                3,1,4,2,\n",
    "                3,2,4,1,\n",
    "                2,1,3,4)\n",
    "\n",
    "prefs_Bv_1 <- c(3,2,4,1,\n",
    "                2,1,3,4,\n",
    "                2,4,1,3,\n",
    "                3,1,4,2)\n",
    "\n",
    "#OR\n",
    "\n",
    "prefs_Av_2 <- c(c(1,2,4,3),\n",
    "                c(3,1,4,2),\n",
    "                c(3,2,4,1),\n",
    "                c(2,1,3,4))\n",
    "\n",
    "prefs_Bv_2 <- c(c(3,2,4,1),\n",
    "                c(2,1,3,4),\n",
    "                c(2,4,1,3),\n",
    "                c(3,1,4,2))\n",
    "\n",
    "\n",
    "##List\n",
    "\n",
    "prefs_Al <- list(c(1,2,4,3),c(3,1,4,2),c(3,2,4,1),c(2,1,3,4))\n",
    "prefs_Bl <- list(c(3,2,4,1),c(2,1,3,4),c(2,4,1,3),c(3,1,4,2))\n",
    "\n",
    "\n",
    "\n",
    "##names\n",
    "\n",
    "names <- c(1,2,3,4)\n"
   ]
  },
  {
   "cell_type": "markdown",
   "id": "0219df43-9bca-4ae7-8968-94eb0fa1b8ac",
   "metadata": {},
   "source": [
    "## Examples"
   ]
  },
  {
   "cell_type": "code",
   "execution_count": 21,
   "id": "18e24cf4-8e0e-479f-883a-bd977cd60c04",
   "metadata": {},
   "outputs": [
    {
     "name": "stdout",
     "output_type": "stream",
     "text": [
      "Stable Match Found! \n",
      "\n",
      "Identified Pairings:\n",
      "  A    |   B  \n",
      "-------|-------\n",
      "  1    |   2\n",
      "-------|-------\n",
      "  2    |   3\n",
      "-------|-------\n",
      "  3    |   4\n",
      "-------|-------\n",
      "  4    |   1\n",
      "-------|-------\n",
      "Stable Match Found! \n",
      "\n",
      "Identified Pairings:\n",
      "  A    |   B  \n",
      "-------|-------\n",
      "  1    |   2\n",
      "-------|-------\n",
      "  2    |   3\n",
      "-------|-------\n",
      "  3    |   4\n",
      "-------|-------\n",
      "  4    |   1\n",
      "-------|-------\n"
     ]
    }
   ],
   "source": [
    "#stable_marriage examples\n",
    "\n",
    "x <- stable_marriage(prefs_Al,prefs_Bl) #list input with default options (mix (pertubations) = F, output = T)\n",
    "y <- stable_marriage(prefs_Av_1,prefs_Bv_1) #Ditto for vectors"
   ]
  },
  {
   "cell_type": "code",
   "execution_count": 7,
   "id": "b82b6cff-7d48-4b9a-827f-a726cae682ec",
   "metadata": {},
   "outputs": [
    {
     "data": {
      "text/html": [
       "<ol>\n",
       "\t<li><style>\n",
       ".list-inline {list-style: none; margin:0; padding: 0}\n",
       ".list-inline>li {display: inline-block}\n",
       ".list-inline>li:not(:last-child)::after {content: \"\\00b7\"; padding: 0 .5ex}\n",
       "</style>\n",
       "<ol class=list-inline><li>1</li><li>2</li></ol>\n",
       "</li>\n",
       "\t<li><style>\n",
       ".list-inline {list-style: none; margin:0; padding: 0}\n",
       ".list-inline>li {display: inline-block}\n",
       ".list-inline>li:not(:last-child)::after {content: \"\\00b7\"; padding: 0 .5ex}\n",
       "</style>\n",
       "<ol class=list-inline><li>2</li><li>1</li></ol>\n",
       "</li>\n",
       "\t<li><style>\n",
       ".list-inline {list-style: none; margin:0; padding: 0}\n",
       ".list-inline>li {display: inline-block}\n",
       ".list-inline>li:not(:last-child)::after {content: \"\\00b7\"; padding: 0 .5ex}\n",
       "</style>\n",
       "<ol class=list-inline><li>3</li><li>3</li></ol>\n",
       "</li>\n",
       "\t<li><style>\n",
       ".list-inline {list-style: none; margin:0; padding: 0}\n",
       ".list-inline>li {display: inline-block}\n",
       ".list-inline>li:not(:last-child)::after {content: \"\\00b7\"; padding: 0 .5ex}\n",
       "</style>\n",
       "<ol class=list-inline><li>4</li><li>4</li></ol>\n",
       "</li>\n",
       "</ol>\n"
      ],
      "text/latex": [
       "\\begin{enumerate}\n",
       "\\item \\begin{enumerate*}\n",
       "\\item 1\n",
       "\\item 2\n",
       "\\end{enumerate*}\n",
       "\n",
       "\\item \\begin{enumerate*}\n",
       "\\item 2\n",
       "\\item 1\n",
       "\\end{enumerate*}\n",
       "\n",
       "\\item \\begin{enumerate*}\n",
       "\\item 3\n",
       "\\item 3\n",
       "\\end{enumerate*}\n",
       "\n",
       "\\item \\begin{enumerate*}\n",
       "\\item 4\n",
       "\\item 4\n",
       "\\end{enumerate*}\n",
       "\n",
       "\\end{enumerate}\n"
      ],
      "text/markdown": [
       "1. 1. 1\n",
       "2. 2\n",
       "\n",
       "\n",
       "\n",
       "2. 1. 2\n",
       "2. 1\n",
       "\n",
       "\n",
       "\n",
       "3. 1. 3\n",
       "2. 3\n",
       "\n",
       "\n",
       "\n",
       "4. 1. 4\n",
       "2. 4\n",
       "\n",
       "\n",
       "\n",
       "\n",
       "\n"
      ],
      "text/plain": [
       "[[1]]\n",
       "[1] 1 2\n",
       "\n",
       "[[2]]\n",
       "[1] 2 1\n",
       "\n",
       "[[3]]\n",
       "[1] 3 3\n",
       "\n",
       "[[4]]\n",
       "[1] 4 4\n"
      ]
     },
     "metadata": {},
     "output_type": "display_data"
    }
   ],
   "source": [
    "#stable_marriage example\n",
    "stable_marriage(prefs_Av_1,prefs_Bv_1,mix=T,output=F) #Including pertubation in prefs table B and switching off printed output"
   ]
  },
  {
   "cell_type": "code",
   "execution_count": 6,
   "id": "fc4b1d98-3010-48ef-a810-b5d64f38bddc",
   "metadata": {},
   "outputs": [
    {
     "name": "stdout",
     "output_type": "stream",
     "text": [
      "Stable Match Found! \n",
      "\n",
      "Identified Pairings:\n",
      "  A    |   B  \n",
      "-------|-------\n",
      "  1    |   2\n",
      "-------|-------\n",
      "  2    |   3\n",
      "-------|-------\n",
      "  3    |   4\n",
      "-------|-------\n",
      "  4    |   1\n",
      "-------|-------\n"
     ]
    }
   ],
   "source": [
    "#rcpp_stablem_vec example\n",
    "\n",
    "x <- rcpp_stablem_vec(names,prefs_Av_1,prefs_Bv_1,1) #Ensure all arugments are included"
   ]
  }
 ],
 "metadata": {
  "kernelspec": {
   "display_name": "R",
   "language": "R",
   "name": "ir"
  },
  "language_info": {
   "codemirror_mode": "r",
   "file_extension": ".r",
   "mimetype": "text/x-r-source",
   "name": "R",
   "pygments_lexer": "r",
   "version": "4.1.2"
  }
 },
 "nbformat": 4,
 "nbformat_minor": 5
}
