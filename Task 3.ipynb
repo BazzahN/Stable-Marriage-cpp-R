{
 "cells": [
  {
   "cell_type": "markdown",
   "id": "3384660f",
   "metadata": {},
   "source": [
    "# Interfacing R & C++: Assignment 3: \n",
    "\n",
    "## Task 3\n"
   ]
  },
  {
   "cell_type": "markdown",
   "id": "34f77aae",
   "metadata": {},
   "source": [
    "| | Rerunable $R^1$ | Repeatable $R^2$ | Reproducable $R^3$ | Reusable $R^4$ | Replicable $R^5$ |\n",
    "| --- | --- | --- | --- | --- | --- |\n",
    "| Pseudo Code | 4 | 4 | 4 | 3 | 1 |\n",
    "| Python | 3 | 2 | 3 | 1 | 2 |\n",
    "| C++ | 1 | 1 | 2 | 4 | 3 |\n",
    "| R package | 2 | 3 | 1 | 2 | 4 |\n",
    "\n",
    "\n",
    "**Scale:** 1 (best) - 4 (worst) "
   ]
  },
  {
   "cell_type": "markdown",
   "id": "9f0ea8e1",
   "metadata": {},
   "source": [
    "## Discussion:"
   ]
  },
  {
   "cell_type": "markdown",
   "id": "8e9fdeae",
   "metadata": {},
   "source": [
    "### Rerunable ($R^1$)\n",
    "\n",
    "**Definition:** A code is *Rerunable* if a direct replica of it can be run on another machine or software which is not 'native' to the enviroment it was created in. \n",
    "\n",
    "**Advocation:** Future proofing is nearly impossible, one cannot know just what functions and libaries will remain usable in years to come. A way to ensure renrunability is to provide users with all **dependicies** your code includes, i.e. system, software and libaries. \n",
    "\n",
    "**Justification:** By its very nature **psuedo code** cannot be re-run, as it is an abstract representation of the algortihm not code that any computer, other than our own, can understand. However, looking at this from another perspective, the psuedo code is actually the most timeless 'software' of all my implementations, becuase it is not directly interpretated by the computer. In fact, the fundamental algortihm we wrote for python was psuedo code written in the 70s. Despite these points and to remain consitent I will keep it at a 4.\n",
    "\n",
    "The **python** code was not really written with re-runability in mind, and was more a playground to test and write my first stable marriage functions. As such, care was not taken to state the version of pyython, or the libaries used and their versions. The **R package** comes in second, simply beause it includes good documentation. However, it is dependent on external programs like devtools to actually implement and I don't inlcude the R version it supports. Finally, my **C++** github file provides the most transparent rendition of my code, as it includes all of the libaries and C++ standard used by the code. The nature of C++ and the amount of effort to standardise it gives it a better shelf life than the others. Although python is also similair, it being a higher level language can introduce more vunrabilities with updates."
   ]
  },
  {
   "cell_type": "markdown",
   "id": "4d1b5ed9",
   "metadata": {},
   "source": [
    "### Repeatable ($R^2$)\n",
    "\n",
    "**Definition:** *Repeatable* code produces the same, consistent output over multiple runs. This could be an individual value, or averaged behaviour. \n",
    "\n",
    "**Advocation** In principle this seems a relativley straightforward condition to meet, but one must be careful when transferring code between Operating Systems, languages and even previous verisions of languages. Even in non-stochastic programs different enviroments may handle long numbers differently. One must ensure that if random numbers are used, and they are generated digitally, that initialisation details (seed) on the **RNG** are included. The specific RNG, its method and the version of the language it was used on should also be included.\n",
    "\n",
    "Finally, the original un-adultterated output from the study the code is used in should be made available. If any issue does arise, this should make it easier for users to make relative comparisons to their own results. \n",
    "\n",
    "**Justification:** Similair arguments applied to the previous R can be used again on the **psuedo code**, it is very much dependent on how the user/developer codes it.\n",
    "\n",
    "As for the **R** code, its more of a tool for other users to run tests, I expect them to include random seed and proper Repeatable etiquette in whatever study they perform. The only random compoennt in the R package is the perterbation function. I do not specify the RNG used and I don't specify its seed either, but I think this is an acceptable choice. Including the random seed under the hood, so to speak, would reduce the transparancy of the code and therefore infringe on $R^4$.\n",
    "\n",
    "The **python** code included a time complexity study of the functions I wrote. This implimentation conforms quite well as each study included a random.seed. However, it could be made better if I were to include supplementary material on the type of RNG used and the version of random libary I used. \n",
    "\n",
    "\n",
    "In my **C++** I included another time complexity study, which, I think was implemented in a much better way in comparison to the python code. I included both the random seed and the actual results generated using the python code-saved as excel files. "
   ]
  },
  {
   "cell_type": "markdown",
   "id": "9da13611",
   "metadata": {},
   "source": [
    "### Reproducable ($R^3$)\n",
    "\n",
    "**Definition:** *Reproducability* in a source code means that another user can take the code, re run it in the exact same enviroment, with the exact same inputs and revieve an identical output to the original. This is not to be confused with $R^2$, although $R^1$ and $R^2$ are necessary but not sufficient conditions for $R^3$. $R^2$ does not seek self-consitency in the exact same execution enviroment, just general consitency with the code output. \n",
    "\n",
    "**Advocation** Principles in $R^2$ can be repeated here, once should save the original data, seed and input data; they should also include the **timestamp** for when the orignal code was run, along with the system version.\n",
    "\n",
    "Innocuous information like plotting code should also be included; it is just as liable to bugs as the rest of the code. It should be able to reproduce the same graphs using the data you also stored. Unit tests should be available so that the code can self-test to ensure it still functions as expected. Although unit tests do not directly contribute to $R^3$ they can expediate any debugging process of something has gone wrong.\n",
    "\n",
    "Finally the code should be made easily accessible to anyone who is interested, either thorugh an inclusion in a publications supplementary material or a github; anything of that variety. \n",
    "\n",
    "\n",
    "**Justification:** Ditto reasons for $R^1$ and $R^2$ re **psuedo code**.\n",
    "\n",
    "Similar arguments for $R^3$ against the **python** code have already discussed in $R^1$ and $R^2$. Additionaly, the Github upload of the python code was not standardised very well, and did not specify what a .ipynb was or how to run it. Of course, this can be excused by my focus in the python assignment. On the other hand, the unit tests included in the final task for this code salvage some Reproducability. \n",
    "\n",
    "\n",
    "\n",
    "The **C++** did the best in $R^1$ and $R^2$, but that is not enough here. The problem is that **C++** suffers from accessibility issues. Even though, I included a decent tutorial on how to compile it, C++ in general is not as intuative as **R**, and consequently not as accesible. If reproducable studies were to be written using the C++ code, it is probably best to use the R package I wrote. \n",
    "\n",
    "The **R** code, does this R very well (haha). It is on rails enough for an inexperienced user to understand, but also includes the source files and a link to the original C++ assignment. This allows it to benefit by piggy backing on the explanations given in the **C++** code. The Jupyter document with examples also helps with reproducability. And this code is a lot more accessible than the C++ code. \n"
   ]
  },
  {
   "cell_type": "markdown",
   "id": "30ff0623",
   "metadata": {},
   "source": [
    "### Reusable ($R^4$)\n",
    "\n",
    "**Definition:** *Reusability* arises when the original code is presented in a way which is easily understood, allowing for modification and reuse. \n",
    "\n",
    "**Advocation** A well commented code, which is not overly verbose but detailed enough to provide succinct descriptions for each part of the code. Functions should include documentation, this should be written inside a declared function. It should include the function arguments, and their types as well as the funciton's output. \n",
    "\n",
    "Magic Numbers-anonymous numbers in the code, with no obvious description for their use, and Hardcoded Numbers-relevant variable parameters which required re-coding to change-should be avoided. \n",
    "\n",
    "Care should be taken to write the code efficiently and clearly, so commenting may act as a supliment to self-evident code. \n",
    "\n",
    "**Justification:** The **C++** code is probably the worst for Reusability. My commenting was scant and the functions were not well labled or documented. Although, the github page did salvage this. In general, I believe there is a barrier to entry in understanding the **C++** code as it requries the user to understand C++ first, which isn't as common as say python or R. \n",
    "\n",
    "The **psuedo code** is actually a very succinct representaion of the functions I have used, so it is approprate for it to score a little higher here. The only reason it's not favoured is the extra effort and the possible error on the coders part in re-implementing it in a different language. Which is why, I've used the psuedo code as a supplement rather than a stand alone version of the stable marriage algorithms. \n",
    "\n",
    "The **R** code, does this quite well. Here I focused more on commenting the functions because of its user facing purposes. However, a massive part of this code is hidden under a blanket of C++ which makes it suffer in Reusablility for the same reasons I sepcified for my C++ implementation. \n",
    "\n",
    "\n",
    "Finally, the **python** has good reusability, partly because of the psuedo code I included with it. But if that doesn't count, because this was my first wrtite up of IS_Stable and the other functions, I paid more attention to commenting. This was done primarily to help me when I came back to it at differnt points in the assignment. However, this decision lends the python code towards being my most **resuable** code.\n",
    "\n"
   ]
  },
  {
   "cell_type": "markdown",
   "id": "46e85864",
   "metadata": {},
   "source": [
    "### Replicable ($R^5$)\n",
    "\n",
    "**Definition:** For a *Replicable* code, it must be possible for it to be broken down into a foundational description and re-written by someone else. This adapted code should function in the exact/similair way to the original. \n",
    "\n",
    "**Advocation** Conforming to this standard is a bit more dependent on an individual user, inexperienced coders are prone to make more mistakes or produce buggy code. Effort should be taken to anticipate the difficulties inherant in reproducing code.\n",
    "\n",
    "An obvious resource is psuedo code, which can be included within the softwares documentation. This code should be written in a way which is not too specific to one language (although a balance needs to be struck so as not to make the code too abstract/esoteric for inexperienced coders). Specific details on libraries and function methods can be included, but should not clutter up the general material, it should be included as an addendum instead. \n",
    "\n",
    "\n",
    "**Justification:** Strangely enough the **R** code is not very replicable because of the secret C++ stuff going on under the hood. Now, why do I rate it less than the C++ code then? That is becuase, in my C++ code I put more emphasis on transparency, including the files and their contents, as well as how to run and compile it. In the **R** code, this all happens in the background, but this is a deliberate choice. \n",
    "\n",
    "The **python** has good replicabilty because of the language itself. It strikes a balance between being general enough for sophisticated coding, but without losing its understandability. The comments made for $R^4$ about the comments in the python code also apply here.\n",
    "\n",
    "\n",
    "Finally the **psuedo code** is probably the closest to the goals of replicable code. It does suffer, in the sense that I wrote it using syntax borrowed from python, rather than a more general description such as the one in textbook for the fundamental algorithm. \n",
    "\n",
    "\n",
    "\n"
   ]
  }
 ],
 "metadata": {
  "kernelspec": {
   "display_name": "Python 3 (ipykernel)",
   "language": "python",
   "name": "python3"
  },
  "language_info": {
   "codemirror_mode": {
    "name": "ipython",
    "version": 3
   },
   "file_extension": ".py",
   "mimetype": "text/x-python",
   "name": "python",
   "nbconvert_exporter": "python",
   "pygments_lexer": "ipython3",
   "version": "3.9.7"
  }
 },
 "nbformat": 4,
 "nbformat_minor": 5
}
